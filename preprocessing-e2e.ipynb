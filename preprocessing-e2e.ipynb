{
 "cells": [
  {
   "cell_type": "code",
   "execution_count": 1,
   "source": [
    "import json\n",
    "from tqdm.auto import tqdm\n",
    "import pandas as pd\n",
    "import pickle\n",
    "from sklearn.preprocessing import LabelEncoder\n",
    "from sklearn.model_selection import train_test_split"
   ],
   "outputs": [],
   "metadata": {}
  },
  {
   "cell_type": "code",
   "execution_count": 2,
   "source": [
    "from sqlalchemy import create_engine\n",
    "\n",
    "db = dict(\n",
    "    host='rostam.idav.ucdavis.edu',\n",
    "    dbname='youtube',\n",
    "    user='ytuser',\n",
    "    passwd='GqBKuUigfQ4F0lyy'\n",
    ")\n",
    "\n",
    "def get_engine():\n",
    "    return create_engine('mysql+pymysql://%s:%s@%s/%s' % (db['user'], db['passwd'], db['host'], db['dbname']))"
   ],
   "outputs": [],
   "metadata": {}
  },
  {
   "cell_type": "code",
   "execution_count": 3,
   "source": [
    "sockpuppets = pd.read_sql('sock-puppets', con=get_engine())"
   ],
   "outputs": [],
   "metadata": {}
  },
  {
   "cell_type": "code",
   "execution_count": 4,
   "source": [
    "users = set()\n",
    "items = set()\n",
    "X = []\n",
    "y = []"
   ],
   "outputs": [],
   "metadata": {}
  },
  {
   "cell_type": "code",
   "execution_count": 5,
   "source": [
    "for user in tqdm(sockpuppets.iloc[:].itertuples()):\n",
    "    userId = user.puppet_id\n",
    "    viewed = user.viewed\n",
    "    recommendation_trail = user.recommendation_trail\n",
    "    homepage = user.homepage\n",
    "\n",
    "    users.add(userId)\n",
    "    \n",
    "    for item in viewed:\n",
    "        items.add(item)\n",
    "        X.append((userId, item))\n",
    "        y.append(1)\n",
    "    \n",
    "    for trace in recommendation_trail:\n",
    "        for item in trace:\n",
    "            if item in viewed:\n",
    "                continue\n",
    "            items.add(item)\n",
    "            X.append((userId, item))\n",
    "            y.append(0)\n",
    "            \n",
    "    for item in homepage:\n",
    "        items.add(item)\n",
    "        X.append((userId, item))\n",
    "        y.append(2)"
   ],
   "outputs": [
    {
     "output_type": "display_data",
     "data": {
      "text/plain": [
       "0it [00:00, ?it/s]"
      ],
      "application/vnd.jupyter.widget-view+json": {
       "model_id": "aa2a62b1a5c64bf789a8b4b8e7c4b7d6",
       "version_major": 2,
       "version_minor": 0
      }
     },
     "metadata": {}
    }
   ],
   "metadata": {}
  },
  {
   "cell_type": "markdown",
   "source": [
    "## Train-Test Split"
   ],
   "metadata": {}
  },
  {
   "cell_type": "code",
   "execution_count": 6,
   "source": [
    "X_train, X_test, y_train, y_test = train_test_split(X, y, test_size=0.2, random_state=42)"
   ],
   "outputs": [],
   "metadata": {}
  },
  {
   "cell_type": "code",
   "execution_count": 7,
   "source": [
    "users = {u: ind for ind, u in enumerate(list(users))}\n",
    "items = {i: ind for ind, i in enumerate(list(items))}"
   ],
   "outputs": [],
   "metadata": {}
  },
  {
   "cell_type": "code",
   "execution_count": 8,
   "source": [
    "def encode(collection, val):\n",
    "    return collection[val]"
   ],
   "outputs": [],
   "metadata": {}
  },
  {
   "cell_type": "markdown",
   "source": [
    "## userItemDict, itemUserDict, userRatings"
   ],
   "metadata": {}
  },
  {
   "cell_type": "code",
   "execution_count": 9,
   "source": [
    "userItemDict = {}\n",
    "userRatings = {}\n",
    "itemUserDict = {}\n",
    "itemRatings = {}"
   ],
   "outputs": [],
   "metadata": {}
  },
  {
   "cell_type": "code",
   "execution_count": 10,
   "source": [
    "for (userId, itemId), rating in tqdm(zip(X_train, y_train), total=len(X_train)):\n",
    "    u = encode(users, userId)\n",
    "    v = encode(items, itemId)\n",
    "    \n",
    "    if u not in userItemDict:\n",
    "        userItemDict[u] = []\n",
    "        userRatings[u] = []\n",
    "        \n",
    "    if v not in itemUserDict:\n",
    "        itemUserDict[v] = []\n",
    "        itemRatings[v] = []\n",
    "        \n",
    "    userItemDict[u].append(v)\n",
    "    userRatings[u].append(rating)\n",
    "    itemUserDict[v].append(u)\n",
    "    itemRatings[v].append(rating)"
   ],
   "outputs": [
    {
     "output_type": "display_data",
     "data": {
      "text/plain": [
       "  0%|          | 0/709423 [00:00<?, ?it/s]"
      ],
      "application/vnd.jupyter.widget-view+json": {
       "model_id": "293cd9ca36e44d0383d37fe508f0fcad",
       "version_major": 2,
       "version_minor": 0
      }
     },
     "metadata": {}
    }
   ],
   "metadata": {}
  },
  {
   "cell_type": "code",
   "execution_count": 11,
   "source": [
    "for userId in users:\n",
    "    u = encode(users, userId)\n",
    "    if u not in userItemDict:\n",
    "        userItemDict[u] = []\n",
    "        userRatings[u] = []\n",
    "    \n",
    "for itemId in items:\n",
    "    v = encode(items, itemId)\n",
    "    if v not in itemUserDict:\n",
    "        itemUserDict[v] = []\n",
    "        itemRatings[v] = []"
   ],
   "outputs": [],
   "metadata": {}
  },
  {
   "cell_type": "markdown",
   "source": [
    "## Test set"
   ],
   "metadata": {}
  },
  {
   "cell_type": "code",
   "execution_count": 12,
   "source": [
    "testUsers = []\n",
    "testItems = []\n",
    "testRatings = []"
   ],
   "outputs": [],
   "metadata": {}
  },
  {
   "cell_type": "code",
   "execution_count": 13,
   "source": [
    "for (userId, itemId), rating in tqdm(zip(X_test, y_test), total=len(X_test)):\n",
    "    testUsers.append(encode(users, userId))\n",
    "    testItems.append(encode(items, itemId))\n",
    "    testRatings.append(rating)"
   ],
   "outputs": [
    {
     "output_type": "display_data",
     "data": {
      "text/plain": [
       "  0%|          | 0/177356 [00:00<?, ?it/s]"
      ],
      "application/vnd.jupyter.widget-view+json": {
       "model_id": "c109377c8df24d7084671fdd738a585e",
       "version_major": 2,
       "version_minor": 0
      }
     },
     "metadata": {}
    }
   ],
   "metadata": {}
  },
  {
   "cell_type": "markdown",
   "source": [
    "## Item-Item"
   ],
   "metadata": {}
  },
  {
   "cell_type": "code",
   "execution_count": 14,
   "source": [
    "video_ids = ','.join(f\"'{i}'\" for i in items)\n",
    "sql = 'SELECT author_id, video_id FROM comments WHERE video_id IN (%s)' % video_ids\n",
    "comments = pd.read_sql(sql, con=get_engine())"
   ],
   "outputs": [],
   "metadata": {}
  },
  {
   "cell_type": "code",
   "execution_count": 15,
   "source": [
    "videoAuthor = {}\n",
    "authorVideo = {}\n",
    "videoVideo = {}"
   ],
   "outputs": [],
   "metadata": {}
  },
  {
   "cell_type": "code",
   "execution_count": 16,
   "source": [
    "# compute video-author edges\n",
    "for comment in tqdm(comments.itertuples(), total=len(comments)):\n",
    "    authorId = comment.author_id\n",
    "    videoId = comment.video_id\n",
    "    \n",
    "    if videoId not in items:\n",
    "        continue\n",
    "    \n",
    "    if videoId not in videoAuthor:\n",
    "        videoAuthor[videoId] = set()\n",
    "    if authorId not in authorVideo:\n",
    "        authorVideo[authorId] = set()\n",
    "        \n",
    "    videoAuthor[videoId].add(authorId)\n",
    "    authorVideo[authorId].add(videoId)\n",
    "    \n",
    "# count video-author-video edges\n",
    "for videoId in tqdm(videoAuthor):\n",
    "    authors = videoAuthor[videoId]\n",
    "    videoVideo[videoId] = {}\n",
    "    for author in authors:\n",
    "        for relatedVideoId in authorVideo[author]:\n",
    "            if relatedVideoId not in videoVideo[videoId]:\n",
    "                videoVideo[videoId][relatedVideoId] = 0\n",
    "            videoVideo[videoId][relatedVideoId] += 1"
   ],
   "outputs": [
    {
     "output_type": "display_data",
     "data": {
      "text/plain": [
       "  0%|          | 0/19480897 [00:00<?, ?it/s]"
      ],
      "application/vnd.jupyter.widget-view+json": {
       "model_id": "ceffc34427be48188815c6c907c9e2dd",
       "version_major": 2,
       "version_minor": 0
      }
     },
     "metadata": {}
    },
    {
     "output_type": "display_data",
     "data": {
      "text/plain": [
       "  0%|          | 0/90470 [00:00<?, ?it/s]"
      ],
      "application/vnd.jupyter.widget-view+json": {
       "model_id": "1309f0b4f7ca4d6bbc450780bbd73293",
       "version_major": 2,
       "version_minor": 0
      }
     },
     "metadata": {}
    }
   ],
   "metadata": {}
  },
  {
   "cell_type": "code",
   "execution_count": 17,
   "source": [
    "itemItemDict = {}"
   ],
   "outputs": [],
   "metadata": {}
  },
  {
   "cell_type": "code",
   "execution_count": 18,
   "source": [
    "for v1 in tqdm(videoVideo):\n",
    "    item1 = encode(items, v1)\n",
    "    if item1 not in itemItemDict:\n",
    "        itemItemDict[item1] = []\n",
    "    \n",
    "    for v2 in videoVideo[v1]:\n",
    "        item2 = encode(items, v2)\n",
    "        if videoVideo[v1][v2] > 1:\n",
    "            itemItemDict[item1].append(item2)"
   ],
   "outputs": [
    {
     "output_type": "display_data",
     "data": {
      "text/plain": [
       "  0%|          | 0/90470 [00:00<?, ?it/s]"
      ],
      "application/vnd.jupyter.widget-view+json": {
       "model_id": "eea8904ab24f48a58ee99cebbaf7c42d",
       "version_major": 2,
       "version_minor": 0
      }
     },
     "metadata": {}
    }
   ],
   "metadata": {}
  },
  {
   "cell_type": "markdown",
   "source": [
    "## Dump results"
   ],
   "metadata": {}
  },
  {
   "cell_type": "code",
   "execution_count": 19,
   "source": [
    "with open('data/youtube-dataset.pickle', 'wb') as f:\n",
    "    pickle.dump(userItemDict, f)\n",
    "    pickle.dump(userRatings, f)\n",
    "    pickle.dump(itemUserDict, f)\n",
    "    pickle.dump(itemRatings, f)\n",
    "    \n",
    "    pickle.dump([encode(users, i[0]) for i in X_train], f)\n",
    "    pickle.dump([encode(items, i[1]) for i in X_train], f)\n",
    "    pickle.dump(y_train, f)\n",
    "    \n",
    "    pickle.dump([encode(users, i[0]) for i in X_test], f)\n",
    "    pickle.dump([encode(items, i[1]) for i in X_test], f)\n",
    "    pickle.dump(y_test, f)\n",
    "    \n",
    "    pickle.dump(itemItemDict, f)\n",
    "    pickle.dump([0, 1], f)\n",
    "    \n",
    "    pickle.dump(len(users), f)\n",
    "    pickle.dump(len(items), f)"
   ],
   "outputs": [],
   "metadata": {}
  },
  {
   "cell_type": "code",
   "execution_count": null,
   "source": [],
   "outputs": [],
   "metadata": {}
  }
 ],
 "metadata": {
  "kernelspec": {
   "display_name": "Python 3",
   "language": "python",
   "name": "python3"
  },
  "language_info": {
   "codemirror_mode": {
    "name": "ipython",
    "version": 3
   },
   "file_extension": ".py",
   "mimetype": "text/x-python",
   "name": "python",
   "nbconvert_exporter": "python",
   "pygments_lexer": "ipython3",
   "version": "3.6.13"
  }
 },
 "nbformat": 4,
 "nbformat_minor": 5
}