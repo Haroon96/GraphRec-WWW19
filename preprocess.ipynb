{
 "cells": [
  {
   "cell_type": "code",
   "execution_count": 1,
   "id": "bf8dde0c",
   "metadata": {},
   "outputs": [],
   "source": [
    "import json\n",
    "from tqdm.auto import tqdm\n",
    "import pandas as pd\n",
    "import pickle\n",
    "from sklearn.preprocessing import LabelEncoder"
   ]
  },
  {
   "cell_type": "code",
   "execution_count": 2,
   "id": "3f535adf",
   "metadata": {},
   "outputs": [],
   "source": [
    "from sqlalchemy import create_engine\n",
    "\n",
    "db = dict(\n",
    "    host='rostam.idav.ucdavis.edu',\n",
    "    dbname='youtube',\n",
    "    user='ytuser',\n",
    "    passwd='GqBKuUigfQ4F0lyy'\n",
    ")\n",
    "\n",
    "def get_engine():\n",
    "    return create_engine('mysql+pymysql://%s:%s@%s/%s' % (db['user'], db['passwd'], db['host'], db['dbname']))"
   ]
  },
  {
   "cell_type": "code",
   "execution_count": 3,
   "id": "87d953b1",
   "metadata": {},
   "outputs": [],
   "source": [
    "sockpuppets = pd.read_sql('sock-puppets', con=get_engine())"
   ]
  },
  {
   "cell_type": "code",
   "execution_count": 4,
   "id": "8c0b1e16",
   "metadata": {},
   "outputs": [],
   "source": [
    "users = set()\n",
    "items = set()"
   ]
  },
  {
   "cell_type": "markdown",
   "id": "e02e483f",
   "metadata": {},
   "source": [
    "## User-Item-Rating"
   ]
  },
  {
   "cell_type": "code",
   "execution_count": 5,
   "id": "2a56e314",
   "metadata": {},
   "outputs": [],
   "source": [
    "ratings = []"
   ]
  },
  {
   "cell_type": "code",
   "execution_count": 6,
   "id": "0b050cb0",
   "metadata": {},
   "outputs": [
    {
     "data": {
      "application/vnd.jupyter.widget-view+json": {
       "model_id": "4644af06ff434d509c29a17d54ad17bb",
       "version_major": 2,
       "version_minor": 0
      },
      "text/plain": [
       "0it [00:00, ?it/s]"
      ]
     },
     "metadata": {},
     "output_type": "display_data"
    }
   ],
   "source": [
    "for user in tqdm(sockpuppets.iloc[:].itertuples()):\n",
    "    userId = user.puppet_id\n",
    "    viewed = user.viewed\n",
    "    recommendation_trail = user.recommendation_trail\n",
    "\n",
    "    users.add(userId)\n",
    "    \n",
    "    for item in viewed:\n",
    "        items.add(item)\n",
    "        ratings.append((userId, item, 1))\n",
    "    \n",
    "    for trace in recommendation_trail:\n",
    "        for item in trace:\n",
    "            if item in viewed:\n",
    "                continue\n",
    "            items.add(item)\n",
    "            ratings.append((userId, item, 0))"
   ]
  },
  {
   "cell_type": "code",
   "execution_count": 7,
   "id": "bd55e9f0",
   "metadata": {},
   "outputs": [
    {
     "name": "stdout",
     "output_type": "stream",
     "text": [
      "8402 118095\n"
     ]
    }
   ],
   "source": [
    "print(len(users), len(items))"
   ]
  },
  {
   "cell_type": "markdown",
   "id": "49191e4d",
   "metadata": {},
   "source": [
    "## Item-Item"
   ]
  },
  {
   "cell_type": "code",
   "execution_count": 8,
   "id": "726bc13e",
   "metadata": {},
   "outputs": [],
   "source": [
    "video_ids = ','.join(f\"'{i}'\" for i in items)\n",
    "sql = 'SELECT author_id, video_id FROM comments WHERE video_id IN (%s)' % video_ids\n",
    "comments = pd.read_sql(sql, con=get_engine())"
   ]
  },
  {
   "cell_type": "code",
   "execution_count": 9,
   "id": "bb2bdcdc",
   "metadata": {},
   "outputs": [],
   "source": [
    "videoAuthor = {}\n",
    "authorVideo = {}"
   ]
  },
  {
   "cell_type": "code",
   "execution_count": 10,
   "id": "4abcc15a",
   "metadata": {},
   "outputs": [
    {
     "data": {
      "application/vnd.jupyter.widget-view+json": {
       "model_id": "da5816e7d80a4c3b85f3983367a54928",
       "version_major": 2,
       "version_minor": 0
      },
      "text/plain": [
       "  0%|          | 0/19480897 [00:00<?, ?it/s]"
      ]
     },
     "metadata": {},
     "output_type": "display_data"
    }
   ],
   "source": [
    "for comment in tqdm(comments.itertuples(), total=len(comments)):\n",
    "    authorId = comment.author_id\n",
    "    videoId = comment.video_id\n",
    "    \n",
    "    if videoId not in items:\n",
    "        continue\n",
    "    \n",
    "    if videoId not in videoAuthor:\n",
    "        videoAuthor[videoId] = set()\n",
    "    if authorId not in authorVideo:\n",
    "        authorVideo[authorId] = set()\n",
    "        \n",
    "    videoAuthor[videoId].add(authorId)\n",
    "    authorVideo[authorId].add(videoId)"
   ]
  },
  {
   "cell_type": "code",
   "execution_count": 11,
   "id": "1c34b4a8",
   "metadata": {},
   "outputs": [],
   "source": [
    "videoVideo = {}"
   ]
  },
  {
   "cell_type": "code",
   "execution_count": 12,
   "id": "482d4713",
   "metadata": {},
   "outputs": [
    {
     "data": {
      "application/vnd.jupyter.widget-view+json": {
       "model_id": "897eb94fd5f94ea9824c0f65062673c8",
       "version_major": 2,
       "version_minor": 0
      },
      "text/plain": [
       "  0%|          | 0/90470 [00:00<?, ?it/s]"
      ]
     },
     "metadata": {},
     "output_type": "display_data"
    }
   ],
   "source": [
    "for videoId in tqdm(videoAuthor):\n",
    "    authors = videoAuthor[videoId]\n",
    "    videoVideo[videoId] = {}\n",
    "    for author in authors:\n",
    "        for relatedVideoId in authorVideo[author]:\n",
    "            if relatedVideoId not in videoVideo[videoId]:\n",
    "                videoVideo[videoId][relatedVideoId] = 0\n",
    "            videoVideo[videoId][relatedVideoId] += 1"
   ]
  },
  {
   "cell_type": "code",
   "execution_count": 13,
   "id": "9994b927",
   "metadata": {},
   "outputs": [],
   "source": [
    "graph = []"
   ]
  },
  {
   "cell_type": "code",
   "execution_count": 14,
   "id": "89061c64",
   "metadata": {},
   "outputs": [
    {
     "data": {
      "application/vnd.jupyter.widget-view+json": {
       "model_id": "a35fc21f43434367b424941153ff8f3e",
       "version_major": 2,
       "version_minor": 0
      },
      "text/plain": [
       "  0%|          | 0/90470 [00:00<?, ?it/s]"
      ]
     },
     "metadata": {},
     "output_type": "display_data"
    }
   ],
   "source": [
    "for v1 in tqdm(videoVideo):\n",
    "    for v2 in videoVideo[v1]:\n",
    "        if videoVideo[v1][v2] >= 0:\n",
    "            graph.append((v1, v2, videoVideo[v1][v2]))"
   ]
  },
  {
   "cell_type": "markdown",
   "id": "60f2833e",
   "metadata": {},
   "source": [
    "## Saving"
   ]
  },
  {
   "cell_type": "code",
   "execution_count": 15,
   "id": "c78a834e",
   "metadata": {},
   "outputs": [],
   "source": [
    "ratingsDf = pd.DataFrame(ratings, columns=['user', 'video', 'rating'])\n",
    "graphDf = pd.DataFrame(graph, columns=['video1', 'video2', 'mutual'])"
   ]
  },
  {
   "cell_type": "code",
   "execution_count": 16,
   "id": "6fc061c2",
   "metadata": {},
   "outputs": [],
   "source": [
    "userEncoder = LabelEncoder()\n",
    "videoEncoder = LabelEncoder()"
   ]
  },
  {
   "cell_type": "code",
   "execution_count": 19,
   "id": "1badae8b",
   "metadata": {},
   "outputs": [],
   "source": [
    "u = userEncoder.fit_transform(list(users))\n",
    "v = videoEncoder.fit_transform(list(items))"
   ]
  },
  {
   "cell_type": "code",
   "execution_count": 21,
   "id": "59e49b73",
   "metadata": {},
   "outputs": [
    {
     "data": {
      "text/plain": [
       "118094"
      ]
     },
     "execution_count": 21,
     "metadata": {},
     "output_type": "execute_result"
    }
   ],
   "source": [
    "max(v)"
   ]
  },
  {
   "cell_type": "code",
   "execution_count": null,
   "id": "39811647",
   "metadata": {},
   "outputs": [],
   "source": [
    "ratingsDf['user'] = userEncoder.transform(ratingsDf['user'])\n",
    "ratingsDf['video'] = videoEncoder.transform(ratingsDf['video'])\n",
    "graphDf['video1'] = videoEncoder.transform(graphDf['video1'])\n",
    "graphDf['video2'] = videoEncoder.transform(graphDf['video2'])"
   ]
  },
  {
   "cell_type": "code",
   "execution_count": null,
   "id": "59ad1c24",
   "metadata": {},
   "outputs": [],
   "source": [
    "ratingsDf.to_csv('data/ratings.csv', index=False)\n",
    "graphDf.to_csv('data/graph.csv', index=False)"
   ]
  },
  {
   "cell_type": "code",
   "execution_count": null,
   "id": "ce0f29c6",
   "metadata": {},
   "outputs": [],
   "source": [
    "print(len(users), len(items))"
   ]
  },
  {
   "cell_type": "markdown",
   "id": "560caaf6",
   "metadata": {},
   "source": [
    "## Plotting"
   ]
  },
  {
   "cell_type": "code",
   "execution_count": null,
   "id": "c470feee",
   "metadata": {
    "scrolled": true
   },
   "outputs": [],
   "source": [
    "import plotly.express as px\n",
    "import plotly.graph_objects as go"
   ]
  },
  {
   "cell_type": "code",
   "execution_count": null,
   "id": "168b079b",
   "metadata": {},
   "outputs": [],
   "source": [
    "mutual = graphDf['mutual']\n",
    "mutual = mutual[mutual > 1]\n",
    "mini = mutual.min()\n",
    "maxi = mutual.max()"
   ]
  },
  {
   "cell_type": "code",
   "execution_count": null,
   "id": "cda884fa",
   "metadata": {},
   "outputs": [],
   "source": [
    "fig = go.Figure(data=[go.Histogram(x=mutual, cumulative_enabled=True)])\n",
    "fig.update_layout(yaxis_type='log', xaxis_type='log')\n",
    "fig.write_html('cdf-histo.html')"
   ]
  },
  {
   "cell_type": "code",
   "execution_count": null,
   "id": "a70a1eb5",
   "metadata": {},
   "outputs": [],
   "source": [
    "total = len(mutual)"
   ]
  },
  {
   "cell_type": "code",
   "execution_count": null,
   "id": "76850c30",
   "metadata": {},
   "outputs": [],
   "source": [
    "x = []\n",
    "y = []\n",
    "\n",
    "count = 0\n",
    "for i in tqdm(range(mini, maxi + 1)):\n",
    "    x.append(i)\n",
    "    count = count + len(mutual[i == mutual])\n",
    "    y.append(count / total)"
   ]
  },
  {
   "cell_type": "code",
   "execution_count": null,
   "id": "64403b58",
   "metadata": {},
   "outputs": [],
   "source": [
    "fig = px.line(x=x, y=y)\n",
    "fig.update_layout(\n",
    "    xaxis_title='# of mutual authors',\n",
    "    yaxis_title='CDF'\n",
    ")\n",
    "fig.write_html('cdf.html')"
   ]
  }
 ],
 "metadata": {
  "interpreter": {
   "hash": "fbe847476b9d1efdc3795383ddb4d9118288c2dd61202b213a86d582ead29b41"
  },
  "kernelspec": {
   "display_name": "Python 3",
   "language": "python",
   "name": "python3"
  },
  "language_info": {
   "codemirror_mode": {
    "name": "ipython",
    "version": 3
   },
   "file_extension": ".py",
   "mimetype": "text/x-python",
   "name": "python",
   "nbconvert_exporter": "python",
   "pygments_lexer": "ipython3",
   "version": "3.6.13"
  }
 },
 "nbformat": 4,
 "nbformat_minor": 5
}
