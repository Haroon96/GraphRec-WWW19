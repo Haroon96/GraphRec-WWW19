{
 "cells": [
  {
   "cell_type": "code",
   "execution_count": 1,
   "id": "603387d8",
   "metadata": {},
   "outputs": [],
   "source": [
    "import json\n",
    "from tqdm.auto import tqdm\n",
    "import pandas as pd\n",
    "import pickle\n",
    "from sklearn.preprocessing import LabelEncoder"
   ]
  },
  {
   "cell_type": "code",
   "execution_count": 2,
   "id": "02e7fee9",
   "metadata": {},
   "outputs": [],
   "source": [
    "from sqlalchemy import create_engine\n",
    "\n",
    "db = dict(\n",
    "    host='rostam.idav.ucdavis.edu',\n",
    "    dbname='youtube',\n",
    "    user='ytuser',\n",
    "    passwd='GqBKuUigfQ4F0lyy'\n",
    ")\n",
    "\n",
    "def get_engine():\n",
    "    return create_engine('mysql+pymysql://%s:%s@%s/%s' % (db['user'], db['passwd'], db['host'], db['dbname']))"
   ]
  },
  {
   "cell_type": "code",
   "execution_count": 3,
   "id": "4b999ed1",
   "metadata": {},
   "outputs": [],
   "source": [
    "sockpuppets = pd.read_sql('sock-puppets', con=get_engine())"
   ]
  },
  {
   "cell_type": "code",
   "execution_count": 4,
   "id": "7de0df10",
   "metadata": {},
   "outputs": [],
   "source": [
    "users = set()\n",
    "items = set()"
   ]
  },
  {
   "cell_type": "markdown",
   "id": "6dda501d",
   "metadata": {},
   "source": [
    "## User-Item-Rating"
   ]
  },
  {
   "cell_type": "code",
   "execution_count": 5,
   "id": "6843634a",
   "metadata": {},
   "outputs": [],
   "source": [
    "ratings = []"
   ]
  },
  {
   "cell_type": "code",
   "execution_count": 23,
   "id": "70bba9f2",
   "metadata": {},
   "outputs": [
    {
     "data": {
      "application/vnd.jupyter.widget-view+json": {
       "model_id": "52c33ce0c0c84781848c4233fb891d73",
       "version_major": 2,
       "version_minor": 0
      },
      "text/plain": [
       "0it [00:00, ?it/s]"
      ]
     },
     "metadata": {},
     "output_type": "display_data"
    }
   ],
   "source": [
    "for user in tqdm(sockpuppets.iloc[:].itertuples()):\n",
    "    userId = user.puppet_id\n",
    "    viewed = user.viewed\n",
    "    recommendation_trail = user.recommendation_trail\n",
    "\n",
    "    users.add(userId)\n",
    "    \n",
    "    for item in viewed:\n",
    "        items.add(item)\n",
    "        ratings.append((userId, item, 1))\n",
    "    \n",
    "    for trace in recommendation_trail:\n",
    "        for item in trace:\n",
    "            if item in viewed:\n",
    "                continue\n",
    "            items.add(item)\n",
    "            ratings.append((userId, item, 0))"
   ]
  },
  {
   "cell_type": "code",
   "execution_count": 7,
   "id": "58e49c30",
   "metadata": {},
   "outputs": [
    {
     "name": "stdout",
     "output_type": "stream",
     "text": [
      "100 5486\n"
     ]
    }
   ],
   "source": [
    "print(len(users), len(items))"
   ]
  },
  {
   "cell_type": "markdown",
   "id": "e2576d39",
   "metadata": {},
   "source": [
    "## Item-Item"
   ]
  },
  {
   "cell_type": "code",
   "execution_count": 24,
   "id": "e20200fc",
   "metadata": {},
   "outputs": [],
   "source": [
    "video_ids = ','.join(f\"'{i}'\" for i in items)\n",
    "sql = 'SELECT author_id, video_id FROM comments WHERE video_id IN (%s)' % video_ids\n",
    "comments = pd.read_sql(sql, con=get_engine())"
   ]
  },
  {
   "cell_type": "code",
   "execution_count": 25,
   "id": "3e6e8177",
   "metadata": {},
   "outputs": [],
   "source": [
    "videoAuthor = {}\n",
    "authorVideo = {}"
   ]
  },
  {
   "cell_type": "code",
   "execution_count": 26,
   "id": "d88b10ae",
   "metadata": {},
   "outputs": [
    {
     "data": {
      "application/vnd.jupyter.widget-view+json": {
       "model_id": "838f8a568353412e90a0d57906dbc8f1",
       "version_major": 2,
       "version_minor": 0
      },
      "text/plain": [
       "  0%|          | 0/19480897 [00:00<?, ?it/s]"
      ]
     },
     "metadata": {},
     "output_type": "display_data"
    }
   ],
   "source": [
    "for comment in tqdm(comments.itertuples(), total=len(comments)):\n",
    "    authorId = comment.author_id\n",
    "    videoId = comment.video_id\n",
    "    \n",
    "    if videoId not in items:\n",
    "        continue\n",
    "    \n",
    "    if videoId not in videoAuthor:\n",
    "        videoAuthor[videoId] = set()\n",
    "    if authorId not in authorVideo:\n",
    "        authorVideo[authorId] = set()\n",
    "        \n",
    "    videoAuthor[videoId].add(authorId)\n",
    "    authorVideo[authorId].add(videoId)"
   ]
  },
  {
   "cell_type": "code",
   "execution_count": 27,
   "id": "9d12b70e",
   "metadata": {},
   "outputs": [],
   "source": [
    "videoVideo = {}"
   ]
  },
  {
   "cell_type": "code",
   "execution_count": 28,
   "id": "ed0bb0a6",
   "metadata": {},
   "outputs": [
    {
     "data": {
      "application/vnd.jupyter.widget-view+json": {
       "model_id": "3fa0ba05eeac42c79c76ba8a43eb36d4",
       "version_major": 2,
       "version_minor": 0
      },
      "text/plain": [
       "  0%|          | 0/90470 [00:00<?, ?it/s]"
      ]
     },
     "metadata": {},
     "output_type": "display_data"
    }
   ],
   "source": [
    "for videoId in tqdm(videoAuthor):\n",
    "    authors = videoAuthor[videoId]\n",
    "    videoVideo[videoId] = {}\n",
    "    for author in authors:\n",
    "        for relatedVideoId in authorVideo[author]:\n",
    "            if relatedVideoId not in videoVideo[videoId]:\n",
    "                videoVideo[videoId][relatedVideoId] = 0\n",
    "            videoVideo[videoId][relatedVideoId] += 1"
   ]
  },
  {
   "cell_type": "code",
   "execution_count": 47,
   "id": "305ea69a",
   "metadata": {},
   "outputs": [],
   "source": [
    "graph = []"
   ]
  },
  {
   "cell_type": "code",
   "execution_count": 48,
   "id": "647b1b1c",
   "metadata": {},
   "outputs": [
    {
     "data": {
      "application/vnd.jupyter.widget-view+json": {
       "model_id": "eda36b44387746d3a34254568edf8bb2",
       "version_major": 2,
       "version_minor": 0
      },
      "text/plain": [
       "  0%|          | 0/90470 [00:00<?, ?it/s]"
      ]
     },
     "metadata": {},
     "output_type": "display_data"
    }
   ],
   "source": [
    "for v1 in tqdm(videoVideo):\n",
    "    for v2 in videoVideo[v1]:\n",
    "        if videoVideo[v1][v2] >= 0:\n",
    "            graph.append((v1, v2, videoVideo[v1][v2]))"
   ]
  },
  {
   "cell_type": "markdown",
   "id": "a076b121",
   "metadata": {},
   "source": [
    "## Saving"
   ]
  },
  {
   "cell_type": "code",
   "execution_count": 98,
   "id": "fbda0fd1",
   "metadata": {},
   "outputs": [],
   "source": [
    "ratingsDf = pd.DataFrame(ratings, columns=['user', 'video', 'rating'])\n",
    "graphDf = pd.DataFrame(graph, columns=['video1', 'video2', 'mutual'])"
   ]
  },
  {
   "cell_type": "code",
   "execution_count": 16,
   "id": "c3d4e65f",
   "metadata": {},
   "outputs": [],
   "source": [
    "userEncoder = LabelEncoder()\n",
    "videoEncoder = LabelEncoder()"
   ]
  },
  {
   "cell_type": "code",
   "execution_count": 17,
   "id": "a5b320b8",
   "metadata": {},
   "outputs": [
    {
     "data": {
      "text/plain": [
       "LabelEncoder()"
      ]
     },
     "execution_count": 17,
     "metadata": {},
     "output_type": "execute_result"
    }
   ],
   "source": [
    "userEncoder.fit(list(users))\n",
    "videoEncoder.fit(list(items))"
   ]
  },
  {
   "cell_type": "code",
   "execution_count": 18,
   "id": "8ed084c0",
   "metadata": {},
   "outputs": [],
   "source": [
    "ratingsDf['user'] = userEncoder.transform(ratingsDf['user'])\n",
    "ratingsDf['video'] = videoEncoder.transform(ratingsDf['video'])\n",
    "graphDf['video1'] = videoEncoder.transform(graphDf['video1'])\n",
    "graphDf['video2'] = videoEncoder.transform(graphDf['video2'])"
   ]
  },
  {
   "cell_type": "code",
   "execution_count": 21,
   "id": "ffd78ef3",
   "metadata": {},
   "outputs": [],
   "source": [
    "ratingsDf.to_csv('data/ratings.csv', index=False)\n",
    "graphDf.to_csv('data/graph.csv', index=False)"
   ]
  },
  {
   "cell_type": "code",
   "execution_count": 22,
   "id": "daca6fec",
   "metadata": {},
   "outputs": [
    {
     "name": "stdout",
     "output_type": "stream",
     "text": [
      "100 5486\n"
     ]
    }
   ],
   "source": [
    "print(len(users), len(items))"
   ]
  },
  {
   "cell_type": "markdown",
   "id": "403c0146",
   "metadata": {},
   "source": [
    "## Plotting"
   ]
  },
  {
   "cell_type": "code",
   "execution_count": 96,
   "id": "90ab87b0",
   "metadata": {
    "scrolled": true
   },
   "outputs": [],
   "source": [
    "import plotly.express as px\n",
    "import plotly.graph_objects as go"
   ]
  },
  {
   "cell_type": "code",
   "execution_count": 99,
   "id": "9758a084",
   "metadata": {},
   "outputs": [],
   "source": [
    "mutual = graphDf['mutual']\n",
    "mutual = mutual[mutual > 1]\n",
    "mini = mutual.min()\n",
    "maxi = mutual.max()"
   ]
  },
  {
   "cell_type": "code",
   "execution_count": 100,
   "id": "3e4767ce",
   "metadata": {},
   "outputs": [],
   "source": [
    "fig = go.Figure(data=[go.Histogram(x=mutual, cumulative_enabled=True)])\n",
    "fig.update_layout(yaxis_type='log', xaxis_type='log')\n",
    "fig.write_html('cdf-histo.html')"
   ]
  },
  {
   "cell_type": "code",
   "execution_count": 86,
   "id": "cd9cd835",
   "metadata": {},
   "outputs": [],
   "source": [
    "total = len(mutual)"
   ]
  },
  {
   "cell_type": "code",
   "execution_count": 87,
   "id": "b90f0f5b",
   "metadata": {},
   "outputs": [
    {
     "data": {
      "application/vnd.jupyter.widget-view+json": {
       "model_id": "e171a4a635354a82a3af90aadb428796",
       "version_major": 2,
       "version_minor": 0
      },
      "text/plain": [
       "  0%|          | 0/894 [00:00<?, ?it/s]"
      ]
     },
     "metadata": {},
     "output_type": "display_data"
    }
   ],
   "source": [
    "x = []\n",
    "y = []\n",
    "\n",
    "count = 0\n",
    "for i in tqdm(range(mini, maxi + 1)):\n",
    "    x.append(i)\n",
    "    count = count + len(mutual[i == mutual])\n",
    "    y.append(count / total)"
   ]
  },
  {
   "cell_type": "code",
   "execution_count": 91,
   "id": "9b5a2f7e",
   "metadata": {},
   "outputs": [],
   "source": [
    "fig = px.line(x=x, y=y)\n",
    "fig.update_layout(\n",
    "    xaxis_title='# of mutual authors',\n",
    "    yaxis_title='CDF'\n",
    ")\n",
    "fig.write_html('cdf.html')"
   ]
  },
  {
   "cell_type": "code",
   "execution_count": null,
   "id": "224ebbfa",
   "metadata": {},
   "outputs": [],
   "source": []
  }
 ],
 "metadata": {
  "kernelspec": {
   "display_name": "Python 3",
   "language": "python",
   "name": "python3"
  },
  "language_info": {
   "codemirror_mode": {
    "name": "ipython",
    "version": 3
   },
   "file_extension": ".py",
   "mimetype": "text/x-python",
   "name": "python",
   "nbconvert_exporter": "python",
   "pygments_lexer": "ipython3",
   "version": "3.6.13"
  }
 },
 "nbformat": 4,
 "nbformat_minor": 5
}
